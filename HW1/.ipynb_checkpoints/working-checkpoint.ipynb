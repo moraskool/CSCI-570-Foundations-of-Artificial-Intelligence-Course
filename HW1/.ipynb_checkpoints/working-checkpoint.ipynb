{
 "cells": [
  {
   "cell_type": "code",
   "execution_count": 1,
   "metadata": {},
   "outputs": [],
   "source": [
    "import sys\n",
    "from collections import defaultdict"
   ]
  },
  {
   "cell_type": "code",
   "execution_count": 2,
   "metadata": {},
   "outputs": [],
   "source": [
    "class Node( object ):\n",
    "    def __init__( self, x, y, z):\n",
    "        self.X = x\n",
    "        self.Y = y\n",
    "        self.Z = z\n",
    "        cost  = 0\n",
    "    def __init__(self):\n",
    "        pass  \n",
    "    def getX(self):\n",
    "        return self.X\n",
    "\n",
    "    def getY(self):\n",
    "        return self.Y\n",
    "    \n",
    "    def getZ(self):\n",
    "        return self.Z"
   ]
  },
  {
   "cell_type": "code",
   "execution_count": 2,
   "metadata": {},
   "outputs": [],
   "source": [
    "def ExtractDimension(grid): \n",
    "    return [item[:3]for item in grid] "
   ]
  },
  {
   "cell_type": "code",
   "execution_count": 3,
   "metadata": {},
   "outputs": [],
   "source": [
    "def ExtractActions(grid): \n",
    "    return [item[3:] for item in grid] "
   ]
  },
  {
   "cell_type": "code",
   "execution_count": 4,
   "metadata": {},
   "outputs": [],
   "source": [
    "def MapGridActions(nodes, actions): \n",
    "    nod = []\n",
    "    b = []\n",
    "    node = Node()\n",
    "    for A, N in zip(nodes, actions): \n",
    "        for n in N[:]:\n",
    "            [x, y, z] = LUT(n,A)\n",
    "            node = [x,y,z]           \n",
    "            b.append([A]+ [node])\n",
    "    return b       \n",
    "    "
   ]
  },
  {
   "cell_type": "code",
   "execution_count": 5,
   "metadata": {},
   "outputs": [],
   "source": [
    "# works!\n",
    "def LUT(action,node):\n",
    "    \n",
    "        x, y, z = node\n",
    "        result = []\n",
    "\n",
    "        di =  {     \n",
    "            1:\n",
    "                [x + 1, y, z],\n",
    "            2:\n",
    "                [x - 1, y, z],\n",
    "            3:\n",
    "                [x,y + 1, z],   \n",
    "            4:\n",
    "                [x,y - 1, z], \n",
    "            5: \n",
    "                [x,y, z + 1],\n",
    "            6:\n",
    "                [x, y ,z - 1],\n",
    "            7: \n",
    "                [x + 1, y + 1, z],\n",
    "            8: \n",
    "                [x + 1, y - 1, z],\n",
    "            9:\n",
    "                [x - 1, y + 1, z], \n",
    "            10:\n",
    "                [x - 1, y - 1, z], \n",
    "            11: \n",
    "                [x + 1, y,z + 1],\n",
    "            12: \n",
    "                [x + 1, y , z - 1], \n",
    "            13:\n",
    "                [x - 1, y, z + 1], \n",
    "            14:\n",
    "                [x - 1, y ,z - 1 ],\n",
    "            15: \n",
    "                [x, y + 1, z + 1], \n",
    "            16:\n",
    "                [x, y + 1,z - 1], \n",
    "            17: \n",
    "                [x, y - 1, z + 1],\n",
    "            18: \n",
    "                [x, y - 1,z - 1],\n",
    "         }\n",
    "        \n",
    "        result = di[action]\n",
    "        return result\n",
    "      "
   ]
  },
  {
   "cell_type": "code",
   "execution_count": 6,
   "metadata": {},
   "outputs": [],
   "source": [
    "def MapGridActions(nodes, actions): \n",
    "    nod = []\n",
    "    b = []\n",
    "    node = Node()\n",
    "    for A, N in zip(nodes, actions): \n",
    "        for n in N[:]:\n",
    "            [x, y, z] = LUT(n,A)\n",
    "            node = [x,y,z]           \n",
    "            b.append([A]+ [node])\n",
    "            \n",
    "    return b"
   ]
  },
  {
   "cell_type": "code",
   "execution_count": 8,
   "metadata": {},
   "outputs": [],
   "source": [
    "#build adjacency matrix\n",
    "def build_graph(edges):\n",
    "\n",
    "    graph = defaultdict(list) \n",
    "\n",
    "    for edge in edges: \n",
    "        a, b = tuple(edge[0]), tuple(edge[1]) \n",
    "        graph[a].append(b) \n",
    "        graph[b].append(a)\n",
    "\n",
    "    return graph "
   ]
  },
  {
   "cell_type": "code",
   "execution_count": 9,
   "metadata": {},
   "outputs": [],
   "source": [
    "# then do BFS, cost/weight is 1\n",
    "def BFS_Shortest(graph, start, goal):\n",
    "\n",
    "    s = tuple(start[0])\n",
    "    cost = {}    # for cost\n",
    "    cost[s] = 0\n",
    "    explored = []     # empty set\n",
    "    frontier = [[s]]  # keep track of explored nodes\n",
    "    #print(frontier)\n",
    "    if start == end:\n",
    "        return PrintStartisEnd(start,end) ## print to file here\n",
    "\n",
    "    while frontier:   # loop do\n",
    "        path = frontier.pop(0)\n",
    "            # get the last node from the path\n",
    "        node = path[-1] # set its path to unexplored\n",
    "        if node not in explored:\n",
    "            children = graph[tuple(node)]\n",
    "            for child in children:\n",
    "                new_path = list(path)\n",
    "                new_path.append(child)\n",
    "                cost[child] = 1\n",
    "                frontier.append(new_path)\n",
    "                if child == s:\n",
    "                    cost[child] = 1\n",
    "                    #Goal test here\n",
    "                    #print(frontier)\n",
    "                if list(child) == goal[0]: \n",
    "                    PrintBFS(new_path,cost)\n",
    "                    return True\n",
    "                else: \n",
    "                    return False\n",
    "            # mark node as explored. do this here. makes more sense\n",
    "            explored.append(node)\n",
    " \n",
    "     # in case there's no path between the 2 nodes      \n",
    "     # moved this function somewhere elese"
   ]
  },
  {
   "cell_type": "code",
   "execution_count": 10,
   "metadata": {},
   "outputs": [],
   "source": [
    "def doBFS(graph,start, end):\n",
    "   \n",
    "    graph = build_graph(gridMap)\n",
    "    status = BFS_Shortest(graph, start, end)\n",
    "    \n",
    "    if (status == False):\n",
    "        PrintFailure()\n",
    "       "
   ]
  },
  {
   "cell_type": "code",
   "execution_count": 11,
   "metadata": {},
   "outputs": [],
   "source": [
    "## this is very similar, in fact this is BFS,but with uniform cost, so have to track the cost/weight\n",
    "def doUCS(graph, start, goal):\n",
    "    \n",
    "    explored = set()             # like an orderd pair\n",
    "    frontier = PriorityQueue()   # implement to goal test in the while loop, not outside\n",
    "    frontier.put((0, start))\n",
    "\n",
    "    while frontier:\n",
    "        cost, node = frontier.get()  # keep track of the cost\n",
    "        if node not in visited:\n",
    "            explored.add(node)\n",
    "\n",
    "            if node == goal:   ## \n",
    "                return\n",
    "            for i in graph.neighbors(node):\n",
    "                if i not in visited:\n",
    "                    total_cost = cost + graph.get_cost(node, i)\n",
    "                    frontier.put((total_cost, i))"
   ]
  },
  {
   "cell_type": "code",
   "execution_count": 12,
   "metadata": {},
   "outputs": [],
   "source": [
    "# Astar here\n",
    "def AStar(graph, start, goal):\n",
    "    pass"
   ]
  },
  {
   "cell_type": "code",
   "execution_count": 4,
   "metadata": {},
   "outputs": [],
   "source": [
    "def PrintBFS(solution_path,cost):\n",
    "   \n",
    "    with open('output.txt', 'w') as f:\n",
    "        print(len(solution_path) - 1, sep = \"\\n\", file=f)\n",
    "        print(len(solution_path),  sep = \"\\n\", file=f)\n",
    "        print(' '.join(map(str,solution_path[0])), cost[solution_path[0]], sep = \"\\n\", file=f)\n",
    "        for path in solution_path[1:]:\n",
    "            print(' '.join(map(str,path)),cost[solution_path[0]], file = f)"
   ]
  },
  {
   "cell_type": "code",
   "execution_count": 14,
   "metadata": {},
   "outputs": [],
   "source": [
    " def PrintFailure():\n",
    "        with open('output.txt', 'w') as f:            \n",
    "            print('FAIL', file=f)\n",
    "        "
   ]
  },
  {
   "cell_type": "code",
   "execution_count": 15,
   "metadata": {},
   "outputs": [],
   "source": [
    "def PrintStartisEnd(start, end):\n",
    "    with open('output.txt', 'w') as f: \n",
    "        print(\"0\", sep = \"\\n\", file=f)\n",
    "        print(\"0\", sep = \"\\n\", file=f)\n",
    "        print(start[0] , file=f)"
   ]
  },
  {
   "cell_type": "code",
   "execution_count": 8,
   "metadata": {},
   "outputs": [
    {
     "name": "stdout",
     "output_type": "stream",
     "text": [
      "[[7, 11], [7, 14], [7, 10], [10, 15], [5, 10], [6], [3, 18], [4]]\n"
     ]
    }
   ],
   "source": [
    "filename = \"input4.txt\"\n",
    "out = open(\"output.txt\", \"w\") \n",
    "\n",
    "with open(filename) as f:\n",
    "    # Get algo type\n",
    "    algoName = next(f).split()\n",
    "    \n",
    "    dimension = []\n",
    "    start = []\n",
    "    end = []\n",
    "    eachN = []\n",
    "    each_A = []\n",
    "    grids = []\n",
    "   \n",
    "    \n",
    "    # Get dimension, starting and ending positions\n",
    "    dimension.append([int(k) for k in next(f).split()]) \n",
    "    start.append([int(k) for k in next(f).split()]) \n",
    "    end.append([int(k) for k in next(f).split()])\n",
    "    \n",
    "    # Get the number of lines/grids\n",
    "    NumGrid = next(f).split()\n",
    "    strings = [str(integer) for integer in NumGrid]\n",
    "    a_string = \"\".join(strings)\n",
    "    NumGrid = int(a_string)\n",
    "    \n",
    "    # process each grid\n",
    "    for i in range(NumGrid):\n",
    "        for line in f.readlines():\n",
    "            \n",
    "            grids.append([int(v) for v in line.split()])\n",
    "            grid = tuple(grids)\n",
    "            eachN = ExtractDimension(grid)   # parse the dimension\n",
    "            eachA = ExtractActions(grid)     # parse the actions   \n",
    "print(eachA)"
   ]
  },
  {
   "cell_type": "code",
   "execution_count": 17,
   "metadata": {},
   "outputs": [],
   "source": [
    "gridMap = MapGridActions(eachN, eachA)\n",
    "\n",
    "if algoName[0] == \"BFS\":\n",
    "    doBFS(gridMap, start, end)\n",
    "elif algoName[0] == \"UCS\":\n",
    "    doUCS(gridMap, start, end)\n",
    "elif algoName[0] == \"A*\":\n",
    "    doUCCS(gridMap, start, end)\n",
    "        "
   ]
  },
  {
   "cell_type": "code",
   "execution_count": null,
   "metadata": {},
   "outputs": [],
   "source": [
    "#filename = \"input6.txt\"\n",
    "#out = open(\"output.txt\", \"w\") \n",
    "\n",
    "#with open(filename) as f:\n",
    "#for line in fileinput.input(['input6']):\n",
    "    # Get algo type\n",
    "#    algoName = next(f).split()\n",
    "    \n",
    "#    dimension = []\n",
    "#    start = []\n",
    "#    end = []\n",
    "#    grids = []\n",
    "#    vertex = []\n",
    "#    action = []\n",
    "   \n",
    "    # Get dimension, starting and ending positions\n",
    "#    dimension.append([int(k) for k in next(f).split()]) \n",
    "#    start.append([int(k) for k in next(f).split()]) \n",
    "#    end.append([int(k) for k in next(f).split()])\n",
    "    \n",
    "    # Get the number of lines/grids\n",
    "#    NumGrid = next(f).split()\n",
    "#    strings = [str(integer) for integer in NumGrid]\n",
    "#    a_string = \"\".join(strings)\n",
    "#    NumGrid = int(a_string)\n",
    "\n",
    "    # process each grid\n",
    "    #for i in range(NumGrid):\n",
    "#    for line in f.readline():\n",
    "            \n",
    "#        line = [int(v) for v in line.split()]\n",
    "#        grids.append(line)\n",
    "#        grid = tuple(grids)\n",
    "#        v, a = line[:3], line[3:]\n",
    "#        vertex.append(v)\n",
    "#        action.append(a)\n",
    "#f.close()"
   ]
  },
  {
   "cell_type": "code",
   "execution_count": null,
   "metadata": {},
   "outputs": [],
   "source": []
  },
  {
   "cell_type": "code",
   "execution_count": null,
   "metadata": {},
   "outputs": [],
   "source": []
  }
 ],
 "metadata": {
  "kernelspec": {
   "display_name": "Python 3",
   "language": "python",
   "name": "python3"
  },
  "language_info": {
   "codemirror_mode": {
    "name": "ipython",
    "version": 3
   },
   "file_extension": ".py",
   "mimetype": "text/x-python",
   "name": "python",
   "nbconvert_exporter": "python",
   "pygments_lexer": "ipython3",
   "version": "3.7.5"
  }
 },
 "nbformat": 4,
 "nbformat_minor": 4
}

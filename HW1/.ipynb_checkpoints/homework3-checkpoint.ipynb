{
 "cells": [
  {
   "cell_type": "code",
   "execution_count": 275,
   "metadata": {},
   "outputs": [],
   "source": [
    "import sys\n",
    "from collections import defaultdict, deque\n",
    "from queue import PriorityQueue\n",
    "import fileinput\n",
    "import heapq\n",
    "import time"
   ]
  },
  {
   "cell_type": "code",
   "execution_count": 276,
   "metadata": {},
   "outputs": [],
   "source": [
    "class Node:\n",
    "    \n",
    "    def __init__( self, args):\n",
    "        \n",
    "        self.X = args[0]\n",
    "        self.Y = args[1]\n",
    "        self.Z = args[2]\n",
    "        \n",
    "    def __init__(self):\n",
    "        pass  \n",
    "    \n",
    "    def __repr__(self):\n",
    "        return \"Node([{0},{1},{2}])\".format(self.x, self.y, self.z)\n",
    "\n",
    "    def __str__(self):\n",
    "        return \"x: {0}, y: {1}, z: {2}\".format(self.x, self.y, self.z)\n",
    "\n"
   ]
  },
  {
   "cell_type": "code",
   "execution_count": 277,
   "metadata": {},
   "outputs": [],
   "source": [
    "# works!\n",
    "def LUT(action,node):\n",
    "    \n",
    "        x, y, z = node\n",
    "        result = []\n",
    "\n",
    "        di =  {     \n",
    "            1:\n",
    "                [x + 1, y, z],\n",
    "            2:\n",
    "                [x - 1, y, z],\n",
    "            3:\n",
    "                [x,y + 1, z],   \n",
    "            4:\n",
    "                [x,y - 1, z], \n",
    "            5: \n",
    "                [x,y, z + 1],\n",
    "            6:\n",
    "                [x, y ,z - 1],\n",
    "            7: \n",
    "                [x + 1, y + 1, z],\n",
    "            8: \n",
    "                [x + 1, y - 1, z],\n",
    "            9:\n",
    "                [x - 1, y + 1, z], \n",
    "            10:\n",
    "                [x - 1, y - 1, z], \n",
    "            11: \n",
    "                [x + 1, y,z + 1],\n",
    "            12: \n",
    "                [x + 1, y , z - 1], \n",
    "            13:\n",
    "                [x - 1, y, z + 1], \n",
    "            14:\n",
    "                [x - 1, y ,z - 1 ],\n",
    "            15: \n",
    "                [x, y + 1, z + 1], \n",
    "            16:\n",
    "                [x, y + 1,z - 1], \n",
    "            17: \n",
    "                [x, y - 1, z + 1],\n",
    "            18: \n",
    "                [x, y - 1,z - 1],\n",
    "         }\n",
    "        \n",
    "        result = di[action]\n",
    "        return result"
   ]
  },
  {
   "cell_type": "code",
   "execution_count": 278,
   "metadata": {},
   "outputs": [],
   "source": [
    "# then do BFS, cost/weight is 1\n",
    "def doBFS(graph, start, goal):   \n",
    "  \n",
    "    if start == goal:\n",
    "        return PrintStartisEnd(start,end) ## print to file here\n",
    "    \n",
    "    n = Node()\n",
    "    s = tuple(start[0])         # parse start - initial state \n",
    "    g = tuple(goal[0])          # parse end\n",
    "    \n",
    "    parent = dict()\n",
    "    \n",
    "    cost = {}                   # for cost\n",
    "    cost[s] = 0                 # path cost of initial state is zero\n",
    "   \n",
    "    frontier = [(0, s, ())]     # parent node\n",
    "    explored = {}               # empty set\n",
    "    \n",
    "    \n",
    "    while len(frontier) > 0:     # loop do\n",
    "        \n",
    "        c, cur_node, parent = heapq.heappop(frontier)   # choose shallowest node in frontier \n",
    "\n",
    "        if (cur_node not in explored) :\n",
    "            \n",
    "            children = graph[cur_node]\n",
    "            \n",
    "            parent = parent + (cur_node,)\n",
    "            \n",
    "            explored[cur_node] = cur_node   # add node to explored \n",
    "            \n",
    "            if cur_node == g:  \n",
    "                PrintBFS(parent,cost)\n",
    "                return True\n",
    "        \n",
    "            for child in children:\n",
    "                \n",
    "                child = tuple(child)\n",
    "                cost[child] = 1 \n",
    "                \n",
    "                heapq.heappush(frontier, (c + 1, child, parent))   # order by cost in heap \n",
    "        \n",
    "    # in case there's no solution\n",
    "    PrintFailure()\n",
    "\n"
   ]
  },
  {
   "cell_type": "code",
   "execution_count": 280,
   "metadata": {},
   "outputs": [],
   "source": [
    "## this is very similar, in fact this is BFS,but with uniform cost, so have to track the cost/weight\n",
    "def doUCS(graph, start, goal):\n",
    "    \n",
    "    if start == goal:\n",
    "        return PrintStartisEnd(start,end) ## print to file here\n",
    "    \n",
    "    s = tuple(start[0])         # initial state\n",
    "    cost = {}                   # for cost\n",
    "    cost[s] = 0                 # path cost of initial state is zero\n",
    "    frontier = set()\n",
    "    explored = {}               # empty set\n",
    "    frontier.add(tuple([s]))    # keep track of explored nodes\n",
    "    nodePath = {}\n",
    "    \n",
    "    while frontier:             # loop do\n",
    "        \n",
    "        path = frontier.pop()   # choose shallowest node in frontier \n",
    "        node = path[-1]         # get the last node from the path\n",
    "       \n",
    "        if node == tuple(goal[0]):  \n",
    "            PrintUCS(path,cost)\n",
    "            \n",
    "            return True\n",
    "        \n",
    "        if (node not in explored) :\n",
    "            \n",
    "            children = graph[node]\n",
    "            for child in children:\n",
    "                \n",
    "                child = tuple(child)\n",
    "                \n",
    "                openPath = list(path)\n",
    "                if child not in openPath:\n",
    "                    openPath.append(child) \n",
    "                \n",
    "                if child not in cost:\n",
    "                    cost[child] = getNodeCost(node, child)  # specialized cost function\n",
    "                \n",
    "                frontier.add(tuple(openPath))               # add that child to the frontier\n",
    "                \n",
    "        explored[node] = node                               # add node to explored \n",
    "        \n",
    "    # if there's no solution      \n",
    "    PrintFailure()"
   ]
  },
  {
   "cell_type": "code",
   "execution_count": 281,
   "metadata": {},
   "outputs": [],
   "source": [
    "def getNodeCost(U, V):\n",
    "    \n",
    "    if  ( U[0]!=V[0] and U[1]!=V[1]) or (U[0]!=V[0] and U[2]!=V[2]) or (U[1]!=V[1] and U[2]!=V[2]) :\n",
    "        return 14\n",
    "    else:\n",
    "        return 10"
   ]
  },
  {
   "cell_type": "code",
   "execution_count": 282,
   "metadata": {},
   "outputs": [],
   "source": [
    "def getHeuristics(node, child):\n",
    "    \n",
    "    # APPLY EVALUATION FUNCTION HERE \n",
    "    # need to design an approximate val of f \n",
    "    f = abs(node[0] - child[0]) + abs(node[1] - child[1]) + abs(node[2] - child[2])       \n",
    "    return f\n"
   ]
  },
  {
   "cell_type": "code",
   "execution_count": 283,
   "metadata": {},
   "outputs": [],
   "source": [
    "# Astar here \n",
    "## this is very similar, in fact this is UCS ,but with an g(n) and h(n)\n",
    "def doAStar(graph, start, goal):\n",
    "    \n",
    "    if start == goal:\n",
    "        return PrintStartisEnd(start,end) ## print to file here\n",
    "    \n",
    "    s = tuple(start[0])         # initial state\n",
    "    e = tuple(goal[0])\n",
    "    \n",
    "    cost = {s:0}                # path cost of initial state is zero              \n",
    "    frontier = set()\n",
    "    explored = {}               # empty set\n",
    "    frontier.add(tuple([s]))    # keep track of open nodes\n",
    "    nodePath = {}\n",
    "    cumulative_cost = {s: 0}\n",
    "    \n",
    "    while frontier:             # loop do\n",
    "        \n",
    "        path = frontier.pop()   # choose shallowest node in frontier \n",
    "        node = path[-1]         # get the last node from the path\n",
    "       \n",
    "        if node == tuple(goal[0]):  \n",
    "            PrintUCS(path,cost)\n",
    "            return True\n",
    "        \n",
    "        \n",
    "        children = graph[node]\n",
    "        \n",
    "        for child in children:\n",
    "            \n",
    "            child = tuple(child)\n",
    "            \n",
    "            new_cost = cumulative_cost[tuple(node)] + getNodeCost(node, child) \n",
    "             \n",
    "            if (child not in cumulative_cost or new_cost < cumulative_cost[child]):\n",
    "                cumulative_cost[child] = new_cost\n",
    "                choose = new_cost + getHeuristics(e, child)\n",
    "                \n",
    "                openPath = list(path)\n",
    "                traversal[openpath]\n",
    "                openPath.append(child) \n",
    "\n",
    "                frontier.add(tuple(openPath))         # add that child to the frontier\n",
    "                 \n",
    "                # specialized cost function\n",
    "                if child not in cost:\n",
    "                    cost[child] = getNodeCost(node, child) \n",
    "                    \n",
    "                explored[node] = node                # might have to change to a set /dict   \n",
    "\n",
    "    \n",
    "    # if there's no solution      \n",
    "    PrintFailure()\n"
   ]
  },
  {
   "cell_type": "code",
   "execution_count": 284,
   "metadata": {},
   "outputs": [],
   "source": [
    "def PrintBFS(solution_path,cost):\n",
    "    with open('output.txt', 'w') as f:\n",
    "        print(len(solution_path) - 1, sep = \"\\n\", file=f)\n",
    "        print(len(solution_path),  sep = \"\\n\", file=f)\n",
    "        print(' '.join(map(str,solution_path[0])), \"0\", file=f)\n",
    "        for path in solution_path[1:]:\n",
    "            print(' '.join(map(str,path)), cost[path], file= f)\n",
    "            \n",
    "            "
   ]
  },
  {
   "cell_type": "code",
   "execution_count": 285,
   "metadata": {},
   "outputs": [],
   "source": [
    "def PrintUCS(solution_path,cost):\n",
    "     \n",
    "    sum1 = sum(value for key, value in cost.items() if key in solution_path)\n",
    "    with open('output.txt', 'w') as f:\n",
    "        print(sum1, sep = \"\\n\", file=f)\n",
    "        print(len(solution_path),  sep = \"\\n\", file=f)\n",
    "        print(' '.join(map(str,solution_path[0])), \"0\", file=f)\n",
    "        for path in solution_path[1:]:\n",
    "            print(' '.join(map(str,path)), cost[path], file= f)\n",
    "            \n",
    "    "
   ]
  },
  {
   "cell_type": "code",
   "execution_count": 286,
   "metadata": {},
   "outputs": [],
   "source": [
    "def PrintAStar(solution_path,cost):\n",
    "    \n",
    "    sum1 = sum(value for key, value in cost.items() if key in solution_path)\n",
    "    with open('output.txt', 'w') as f:\n",
    "        print(sum1, sep = \"\\n\", file=f)\n",
    "        print(len(solution_path),  sep = \"\\n\", file=f)\n",
    "        print(' '.join(map(str,solution_path[0])), \"0\", file=f)\n",
    "        for path in solution_path[1:]:\n",
    "            print(' '.join(map(str,path)), cost[path], file= f)"
   ]
  },
  {
   "cell_type": "code",
   "execution_count": 287,
   "metadata": {},
   "outputs": [],
   "source": [
    "def PrintFailure():\n",
    "       with open('output.txt', 'w') as f:            \n",
    "            print('FAIL', file=f)\n",
    "       "
   ]
  },
  {
   "cell_type": "code",
   "execution_count": 288,
   "metadata": {},
   "outputs": [],
   "source": [
    "def PrintStartisEnd(start, end):\n",
    "    with open('output.txt', 'w') as f: \n",
    "        print(\"0\", sep = \"\\n\", file=f)\n",
    "        print(\"1\", sep = \"\\n\", file=f)\n",
    "        print(' '.join(map(str,start[0])) , 0, file=f)\n",
    "            "
   ]
  },
  {
   "cell_type": "code",
   "execution_count": 289,
   "metadata": {},
   "outputs": [],
   "source": [
    "# Map and transform the actions using a LookUpTable(LUT)\n",
    "def MapGrid(vertex, action):\n",
    "    edges = []\n",
    "    node = Node()\n",
    "    \n",
    "    for A, N in zip(vertex, action):\n",
    "        \n",
    "        for n in N[:]:\n",
    "            node = LUT(n,A)\n",
    "            edges.append([A] + [node]) ## here        \n",
    "    return edges\n"
   ]
  },
  {
   "cell_type": "code",
   "execution_count": 290,
   "metadata": {},
   "outputs": [],
   "source": [
    "def addEdge(u,v):      \n",
    "    if node not in self.graph:\n",
    "        self.graph[u]=[v]\n",
    "    else:\n",
    "        self.graph[u].append(v)"
   ]
  },
  {
   "cell_type": "code",
   "execution_count": 291,
   "metadata": {},
   "outputs": [],
   "source": [
    "# Create an Adjacency Matrix for representing graph\n",
    "def createGraph(edges):\n",
    "\n",
    "    graph = defaultdict(list) # store the graph in a dictionary for faster access\n",
    "    \n",
    "    #(graph[tuple(edge[0])].append[tupple(edge[1])] for edge in edges)    \n",
    "    \n",
    "    for edge in edges: \n",
    "        a, b = tuple(edge[0]),edge[1]\n",
    "        graph[a].append(b) \n",
    "        \n",
    "    return graph\n",
    "  "
   ]
  },
  {
   "cell_type": "code",
   "execution_count": 292,
   "metadata": {},
   "outputs": [],
   "source": [
    "#(graph[tuple(edge[0])].append[tupple(edge[1])] for edge in edges)\n",
    "# #my_dictionary = {k: f(v) for k, v in my_dictionary.items()} \n",
    "#edges.append([A] + [[x, y, z]])\n",
    "\n",
    "start_time = time.time()\n",
    "\n",
    "with open(\"input5.txt\",\"r\") as f:\n",
    "    # Get algo type\n",
    "    algoName = next(f).split()\n",
    "    \n",
    "    dimension = []\n",
    "    start = []\n",
    "    end = []\n",
    "    grids = []\n",
    "    vertex = []\n",
    "    action = []\n",
    "   \n",
    "    # Get dimension, starting and ending positions\n",
    "    dimension.append([int(k) for k in next(f).split()]) \n",
    "    start.append([int(k) for k in next(f).split()]) \n",
    "    end.append([int(k) for k in next(f).split()])\n",
    "    \n",
    "    # Get the number of lines/grids\n",
    "    NumGrid = next(f).split()\n",
    "    strings = [str(integer) for integer in NumGrid]\n",
    "    a_string = \"\".join(strings)\n",
    "    NumGrid = int(a_string)\n",
    "    \n",
    "    #print(dimension, algoName, start, end, NumGrid)\n",
    "    \n",
    "    lines = f.readlines()\n",
    "   "
   ]
  },
  {
   "cell_type": "code",
   "execution_count": 293,
   "metadata": {},
   "outputs": [],
   "source": [
    "for line in lines:     \n",
    "    line = [int(v) for v in line.split()]\n",
    "    v, a = line[:3], line[3:]\n",
    "    vertex.append(v)\n",
    "    action.append(a)"
   ]
  },
  {
   "cell_type": "code",
   "execution_count": 294,
   "metadata": {
    "scrolled": false
   },
   "outputs": [],
   "source": [
    "gridMap = MapGrid(vertex, action)\n",
    "#print(gridMap)"
   ]
  },
  {
   "cell_type": "code",
   "execution_count": 295,
   "metadata": {},
   "outputs": [
    {
     "name": "stdout",
     "output_type": "stream",
     "text": [
      "--- 0.32041454315185547 seconds ---\n"
     ]
    }
   ],
   "source": [
    "graph = createGraph(gridMap)  \n",
    "#print(graph)\n",
    "print(\"--- %s seconds ---\" % (time.time() - start_time))\n"
   ]
  },
  {
   "cell_type": "code",
   "execution_count": 296,
   "metadata": {},
   "outputs": [
    {
     "name": "stdout",
     "output_type": "stream",
     "text": [
      "--- 0.4979405403137207 seconds ---\n"
     ]
    }
   ],
   "source": [
    "if algoName[0] == \"BFS\":\n",
    "    doBFS(graph, start, end)\n",
    "elif algoName[0] == \"UCS\":\n",
    "    doUCS(graph, start, end)\n",
    "elif algoName[0] == \"A*\":\n",
    "    doAStar(graph, start, end)\n",
    "    \n",
    "print(\"--- %s seconds ---\" % (time.time() - start_time))"
   ]
  },
  {
   "cell_type": "code",
   "execution_count": null,
   "metadata": {},
   "outputs": [],
   "source": []
  },
  {
   "cell_type": "code",
   "execution_count": null,
   "metadata": {},
   "outputs": [],
   "source": []
  }
 ],
 "metadata": {
  "kernelspec": {
   "display_name": "Python 3",
   "language": "python",
   "name": "python3"
  },
  "language_info": {
   "codemirror_mode": {
    "name": "ipython",
    "version": 3
   },
   "file_extension": ".py",
   "mimetype": "text/x-python",
   "name": "python",
   "nbconvert_exporter": "python",
   "pygments_lexer": "ipython3",
   "version": "3.7.5"
  }
 },
 "nbformat": 4,
 "nbformat_minor": 4
}

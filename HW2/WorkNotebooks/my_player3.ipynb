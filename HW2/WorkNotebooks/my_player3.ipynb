{
 "cells": [
  {
   "cell_type": "code",
   "execution_count": 49,
   "metadata": {},
   "outputs": [],
   "source": [
    "import random\n",
    "import sys\n",
    "from copy import deepcopy"
   ]
  },
  {
   "cell_type": "code",
   "execution_count": 50,
   "metadata": {},
   "outputs": [],
   "source": [
    "alpha = -1000\n",
    "beta = -1000"
   ]
  },
  {
   "cell_type": "code",
   "execution_count": 51,
   "metadata": {},
   "outputs": [],
   "source": [
    "# utility funciton to find pieces with no liberty\n",
    "def find_died_pieces(board, piece_type):\n",
    "\n",
    "    died_pieces = []\n",
    "    for i in range(len(board)):\n",
    "        for j in range(len(board)):\n",
    "            # Check if there is a piece at this position:\n",
    "            if board[i][j] == piece_type:\n",
    "                # The piece dies/is captured if it has no liberty\n",
    "                if not find_liberty(board, i, j):\n",
    "                    died_pieces.append((i,j))\n",
    "    return died_pieces"
   ]
  },
  {
   "cell_type": "code",
   "execution_count": 52,
   "metadata": {},
   "outputs": [],
   "source": [
    "# revmove the dead pieces from the board\n",
    "def remove_died_pieces(board, piece_type):\n",
    "    died_pieces = find_died_pieces(board, piece_type)\n",
    "    if not died_pieces: return board\n",
    "    new_board = remove_certain_pieces(board, died_pieces)\n",
    "    return new_board"
   ]
  },
  {
   "cell_type": "code",
   "execution_count": 53,
   "metadata": {},
   "outputs": [],
   "source": [
    "# remove the valid board pieces when captured\n",
    "def remove_certain_pieces(board, positions):\n",
    "    for piece in positions:\n",
    "        board[piece[0]][piece[1]] = 0\n",
    "    return board"
   ]
  },
  {
   "cell_type": "code",
   "execution_count": 54,
   "metadata": {},
   "outputs": [],
   "source": [
    "# utility function to detect all valid neighbours of a piece in a board\n",
    "def detect_neighbor(board, i, j):\n",
    "    neighbors = []\n",
    "    board = remove_died_pieces(board,(i,j))\n",
    "    # Detect borders and add neighbor coordinates\n",
    "    if i > 0: neighbors.append((i-1, j))\n",
    "    if i < len(board) - 1: neighbors.append((i+1, j))\n",
    "    if j > 0: neighbors.append((i, j-1))\n",
    "    if j < len(board) - 1: neighbors.append((i, j+1))\n",
    "    return neighbors"
   ]
  },
  {
   "cell_type": "code",
   "execution_count": 55,
   "metadata": {},
   "outputs": [],
   "source": [
    "# find all neighbours that are allies\n",
    "def detect_neighbor_ally(board, i, j):\n",
    "    neighbors = detect_neighbor(board, i, j)  # Detect neighbors\n",
    "    group_allies = []\n",
    "    # get the neighbours that are allies\n",
    "    for piece in neighbors:\n",
    "        # Add to allies list if having the same color\n",
    "        if board[piece[0]][piece[1]] == board[i][j]:\n",
    "            group_allies.append(piece)\n",
    "    return group_allies"
   ]
  },
  {
   "cell_type": "code",
   "execution_count": 56,
   "metadata": {},
   "outputs": [],
   "source": [
    "# utility function to search for an ally \n",
    "# this is a dfs search in the board to check for or see good pieces\n",
    "def ally_dfs(board, i, j):\n",
    "        \n",
    "    stack = [(i, j)]   # stack for a DFS serach\n",
    "    ally_members = []  # keep a record of all allies' positions during the search\n",
    "    while stack:\n",
    "        piece = stack.pop()\n",
    "        ally_members.append(piece)\n",
    "        neighbor_allies = detect_neighbor_ally(board, piece[0], piece[1])\n",
    "        for ally in neighbor_allies:\n",
    "            if ally not in stack and ally not in ally_members:\n",
    "                stack.append(ally)\n",
    "    return ally_members"
   ]
  },
  {
   "cell_type": "code",
   "execution_count": 57,
   "metadata": {},
   "outputs": [],
   "source": [
    "# utility function to check if a piece has a liberty\n",
    "def find_liberty(board, i, j):\n",
    "    cnt = 0\n",
    "    ally_members = ally_dfs(board, i, j)  # get the good pieces\n",
    "    \n",
    "    # check for empty space(liberty)\n",
    "    # for each neighbour in the members\n",
    "    for member in ally_members:\n",
    "        neighbors = detect_neighbor(board, member[0], member[1])\n",
    "        for piece in neighbors:\n",
    "            # empty space around a piece, then liberty\n",
    "            if board[piece[0]][piece[1]] == 0:\n",
    "                cnt = cnt + 1\n",
    "                \n",
    "    # If none of the pieces in a allied group has an empty space, it has no liberty\n",
    "    return cnt"
   ]
  },
  {
   "cell_type": "code",
   "execution_count": 58,
   "metadata": {},
   "outputs": [],
   "source": [
    "# check if board position is occupied\n",
    "def checkOccupancy(board, i, j):\n",
    "    if board[i][j] == 0:\n",
    "        return None\n",
    "    else:\n",
    "        return 1"
   ]
  },
  {
   "cell_type": "code",
   "execution_count": 59,
   "metadata": {},
   "outputs": [],
   "source": [
    "# check if KO rule is satisfied\n",
    "# case where repeated placement causing the repeat board state\n",
    "def KOCheck(board, prev_board):\n",
    "    for i in range(len(board)):\n",
    "        for j in range(len(board)):\n",
    "            if board[i][j] != prev_board[i][j]:\n",
    "                return False\n",
    "    return True    \n",
    "  "
   ]
  },
  {
   "cell_type": "code",
   "execution_count": 60,
   "metadata": {},
   "outputs": [],
   "source": [
    "def KKCheck():\n",
    "    if died_pieces and compare_board(previous_board, test_board):\n",
    "        return False\n",
    "    return True"
   ]
  },
  {
   "cell_type": "code",
   "execution_count": 63,
   "metadata": {},
   "outputs": [],
   "source": [
    "# check if our current play is a legal move \n",
    "# which will maximize our winning chance\n",
    "def legalMoves(board, piece_type, prev_board):\n",
    "    legal_moves = []\n",
    "    for i in range(len(board)):\n",
    "        for j in range(len(board)):\n",
    "            if valid_place_check(board, i, j, piece_type, prev_board):\n",
    "                legal_moves.append((i, j))\n",
    "    return legal_moves"
   ]
  },
  {
   "cell_type": "code",
   "execution_count": 64,
   "metadata": {},
   "outputs": [],
   "source": [
    "# utility funtion to flip the player piece\n",
    "def flipPlayer(piece_type):\n",
    "    if piece_type == 1:\n",
    "        return 2\n",
    "    if piece_type == 2:\n",
    "        return 1"
   ]
  },
  {
   "cell_type": "code",
   "execution_count": 66,
   "metadata": {},
   "outputs": [],
   "source": [
    "#Checks if valid move : \n",
    "# current position occupied? \n",
    "# KO rule satisfied?\n",
    "# piece has liberty?\n",
    "# piece is not dead?\n",
    "def valid_place_check(board, i, j, piece_type, prev_board):\n",
    "    \n",
    "    test_board = deepcopy(board)\n",
    "    \n",
    "    # Check if the place has liberty\n",
    "    test_board[i][j] = piece_type \n",
    "    \n",
    "    died_pieces = find_died_pieces(test_board, 3 - piece_type)\n",
    "    test_board = remove_died_pieces(test_board, 3 - piece_type)\n",
    "    \n",
    "    if checkOccupancy(board, i, j) is None and find_liberty(test_board, i, j) >= 1 and not(died_pieces and KOCheck(prev_board,test_board)) :\n",
    "        return True\n"
   ]
  },
  {
   "cell_type": "code",
   "execution_count": null,
   "metadata": {},
   "outputs": [],
   "source": [
    "# use heuristic to calculate \n",
    "def heuristic(board, next_player):\n",
    "    pl = 0\n",
    "    op = 0\n",
    "    ev_pl=0\n",
    "    ev_op=0\n",
    "    for r in range(5):\n",
    "        for j in range(5):\n",
    "            if board[r][j] == Piece:\n",
    "                pl = pl + 1\n",
    "                libp = find_liberty(board, r, j)\n",
    "                ev_pl = ev_pl+pl + libp\n",
    "            elif board[r][j] == 3 - Piece:\n",
    "                op = op + 1\n",
    "                libo = find_liberty(board, r, j)\n",
    "                ev_op = ev_op+op + libo\n",
    "\n",
    "    ev = ev_pl - ev_op\n",
    "    if next_player == Piece:\n",
    "        return ev\n",
    "    return -1 * ev"
   ]
  },
  {
   "cell_type": "code",
   "execution_count": 67,
   "metadata": {},
   "outputs": [],
   "source": [
    "def MINMAX_Util(board, max_depth, alpha, beta, ev, np, prvboard):\n",
    "    \n",
    "    if max_depth == 0:\n",
    "        return ev\n",
    "    \n",
    "    best_so_far = ev\n",
    "    game_state2 = deepcopy(board)\n",
    "    prvboard2 = deepcopy(prvboard)\n",
    "    next_state = deepcopy(board)\n",
    "\n",
    "    for possible_move in legalMoves(board, np, prvboard2):\n",
    "\n",
    "        prvboard2 = deepcopy(next_state)\n",
    "\n",
    "        next_state[possible_move[0]][possible_move[1]] = np\n",
    "        next_state = remove_died_pieces(next_state, 3 - np)\n",
    "\n",
    "        ev = heuristic(next_state, flipPlayer(np))\n",
    "\n",
    "        evaluation = MINMAX_Util(next_state, max_depth - 1, alpha, beta, ev, flipPlayer(np), prvboard2)\n",
    "\n",
    "        next_state = deepcopy(game_state2)\n",
    "\n",
    "        our_result = -1 * evaluation\n",
    "        if our_result > best_so_far:\n",
    "            best_so_far = our_result\n",
    "        if np == 3 - Piece:\n",
    "            if best_so_far > beta:\n",
    "                beta = best_so_far\n",
    "\n",
    "            outcome_for_player = -1 * best_so_far\n",
    "            if outcome_for_player < alpha:\n",
    "                return best_so_far\n",
    "        elif np == Piece:\n",
    "            if best_so_far > alpha:\n",
    "                alpha = best_so_far\n",
    "\n",
    "            outcome_for_opp = -1 * best_so_far\n",
    "            if outcome_for_opp < beta:\n",
    "                return best_so_far\n",
    "\n",
    "    return best_so_far\n"
   ]
  },
  {
   "cell_type": "code",
   "execution_count": 68,
   "metadata": {},
   "outputs": [],
   "source": [
    "# Main min-max function\n",
    "def MINMAX(game_state, max_depth, player_piece, prvboard):\n",
    "    best_moves = []\n",
    "    best_score = None\n",
    "    alpha = -1000\n",
    "    beta = -1000\n",
    "    game_state2 = deepcopy(game_state)\n",
    "    prvboard2 = deepcopy(prvboard)\n",
    "    next_state = deepcopy(game_state)\n",
    "\n",
    "    f = 1\n",
    "\n",
    "    for possible_move in legalMoves(game_state, player_piece, prvboard2):\n",
    "\n",
    "        f = f + 1\n",
    "        prvboard2 = deepcopy(next_state)\n",
    "\n",
    "        next_state[possible_move[0]][possible_move[1]] = player_piece\n",
    "        next_state = remove_died_pieces(next_state, 3 - player_piece)\n",
    "        ev = heuristic(next_state, flipPlayer(player_piece))\n",
    "\n",
    "        evaluation = MINMAX_Util(next_state, max_depth, alpha, beta, ev, flipPlayer(player_piece), prvboard2)\n",
    "\n",
    "        next_state = deepcopy(game_state2)\n",
    "        our_best_outcome = -1 * evaluation\n",
    "        if (not best_moves) or our_best_outcome > best_score:\n",
    "\n",
    "            best_moves = [possible_move]\n",
    "            best_score = our_best_outcome\n",
    "\n",
    "            alpha = best_score\n",
    "\n",
    "        elif our_best_outcome == best_score:\n",
    "\n",
    "            best_moves.append(possible_move)\n",
    "    return best_moves"
   ]
  },
  {
   "cell_type": "code",
   "execution_count": null,
   "metadata": {},
   "outputs": [],
   "source": [
    "# run the min max algorithm\n",
    "def select_best_move(board, prev_board):\n",
    "    best_move = MINMAX(board, 2, Piece, prev_board)\n",
    "    return best_move"
   ]
  },
  {
   "cell_type": "code",
   "execution_count": 69,
   "metadata": {},
   "outputs": [],
   "source": [
    "# read the input from the other player - also a way of seeing everything on the board\n",
    "def readInput(n, fileName=\"input.txt\"):\n",
    "\n",
    "    with open(fileName, 'r') as f:\n",
    "        lines = f.readlines()\n",
    "\n",
    "        piece_type = int(lines[0]) # Black or White player\n",
    "        \n",
    "        previous_board = [[int(x) for x in line.rstrip('\\n')] for line in lines[1:n+1]]\n",
    "        \n",
    "        board = [[int(x) for x in line.rstrip('\\n')] for line in lines[n+1: 2*n+1]]\n",
    "\n",
    "        return piece_type, previous_board, board"
   ]
  },
  {
   "cell_type": "code",
   "execution_count": 70,
   "metadata": {},
   "outputs": [],
   "source": [
    "# Write to the output File\n",
    "def writeOutput(result, fileName=\"output.txt\"):\n",
    "    res = \"\"\n",
    "    if result == \"PASS\":\n",
    "        res = \"PASS\"\n",
    "    else:\n",
    "        rand_best = random.choice(result)\n",
    "        res += str(rand_best[0]) + ',' + str(rand_best[1])\n",
    "    with open(fileName, 'w') as f:\n",
    "        f.write(res)    "
   ]
  },
  {
   "cell_type": "code",
   "execution_count": 76,
   "metadata": {},
   "outputs": [],
   "source": [
    "# read the input.txt for previousboard and currentboard configurations matrix\n",
    "N = 5\n",
    "Piece, previous_board, current_board = readInput(N)"
   ]
  },
  {
   "cell_type": "code",
   "execution_count": 73,
   "metadata": {},
   "outputs": [],
   "source": [
    "# Trace the number of moves\n",
    "n_move = 0     \n",
    "for i in range(len(current_board)):\n",
    "    for j in range(len(current_board)):\n",
    "        if current_board[i][i] != 0:\n",
    "            n_move += 1"
   ]
  },
  {
   "cell_type": "code",
   "execution_count": 74,
   "metadata": {},
   "outputs": [],
   "source": [
    "if n_move == 0 and Piece == 1:\n",
    "    action = [(2,2)] # choose middle as first move for black player\n",
    "else:\n",
    "    action = select_best_move(current_board, previous_board)"
   ]
  },
  {
   "cell_type": "code",
   "execution_count": 75,
   "metadata": {},
   "outputs": [],
   "source": [
    "writeOutput(action)"
   ]
  },
  {
   "cell_type": "code",
   "execution_count": null,
   "metadata": {},
   "outputs": [],
   "source": []
  }
 ],
 "metadata": {
  "kernelspec": {
   "display_name": "Python 3",
   "language": "python",
   "name": "python3"
  },
  "language_info": {
   "codemirror_mode": {
    "name": "ipython",
    "version": 3
   },
   "file_extension": ".py",
   "mimetype": "text/x-python",
   "name": "python",
   "nbconvert_exporter": "python",
   "pygments_lexer": "ipython3",
   "version": "3.6.2"
  }
 },
 "nbformat": 4,
 "nbformat_minor": 4
}

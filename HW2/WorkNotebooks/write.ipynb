{
 "cells": [
  {
   "cell_type": "code",
   "execution_count": 3,
   "metadata": {},
   "outputs": [],
   "source": [
    "# Write to the output File\n",
    "def writeOutput(result, fileName=\"output.txt\"):\n",
    "    res = \"\"\n",
    "    if result == \"PASS\":\n",
    "        res = \"PASS\"\n",
    "    else:\n",
    "        res += str(result[0]) + ',' + str(result[1])\n",
    "    with open(fileName, 'w') as f:\n",
    "        f.write(res)\n",
    "        "
   ]
  },
  {
   "cell_type": "code",
   "execution_count": 4,
   "metadata": {},
   "outputs": [],
   "source": [
    "# Write the \"PASS\" action to output File\n",
    "def writePass(path=\"output.txt\"):\n",
    "    with open(path, 'w') as f:\n",
    "        f.write(\"PASS\")\n",
    "    "
   ]
  },
  {
   "cell_type": "code",
   "execution_count": 5,
   "metadata": {},
   "outputs": [],
   "source": [
    "# Write the input action to the output File to feed to host.py\n",
    "def writeNextInput(piece_type, previous_board, board, fileName=\"input.txt\"):\n",
    "    res = \"\"\n",
    "    res += str(piece_type) + \"\\n\"\n",
    "    \n",
    "    # get previous board config\n",
    "    for item in previous_board:\n",
    "        res += \"\".join([str(x) for x in item])\n",
    "        res += \"\\n\"\n",
    "        \n",
    "    # add it to the current board config    \n",
    "    for item in board:\n",
    "        res += \"\".join([str(x) for x in item])\n",
    "        res += \"\\n\"\n",
    "    \n",
    "    # write it all to the file, starting from the rear of res\n",
    "    with open(fileName, 'w') as f:\n",
    "        f.write(res[:-1]);\n",
    "        \n",
    "    "
   ]
  }
 ],
 "metadata": {
  "kernelspec": {
   "display_name": "Python 3",
   "language": "python",
   "name": "python3"
  },
  "language_info": {
   "codemirror_mode": {
    "name": "ipython",
    "version": 3
   },
   "file_extension": ".py",
   "mimetype": "text/x-python",
   "name": "python",
   "nbconvert_exporter": "python",
   "pygments_lexer": "ipython3",
   "version": "3.7.5"
  }
 },
 "nbformat": 4,
 "nbformat_minor": 4
}

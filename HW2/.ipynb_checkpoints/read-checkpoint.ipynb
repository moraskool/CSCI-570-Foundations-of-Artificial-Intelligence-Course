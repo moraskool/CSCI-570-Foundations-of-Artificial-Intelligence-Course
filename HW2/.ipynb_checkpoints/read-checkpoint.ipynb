{
 "cells": [
  {
   "cell_type": "code",
   "execution_count": 10,
   "metadata": {},
   "outputs": [],
   "source": [
    "# read the input from the other player - also a way of seeing everything on the board\n",
    "def readInput(n, fileName=\"input.txt\"):\n",
    "\n",
    "    with open(fileName, 'r') as f:\n",
    "        lines = f.readlines()\n",
    "\n",
    "        piece_type = int(lines[0])\n",
    "\n",
    "        previous_board = [[int(x) for x in line.rstrip('\\n')] for line in lines[1:n+1]]\n",
    "        board = [[int(x) for x in line.rstrip('\\n')] for line in lines[n+1: 2*n+1]]\n",
    "\n",
    "        return piece_type, previous_board, board"
   ]
  },
  {
   "cell_type": "code",
   "execution_count": 11,
   "metadata": {},
   "outputs": [],
   "source": [
    "def readOutput(fileName=\"output.txt\"):\n",
    "    with open(fileName, 'r') as f:\n",
    "        position = f.readline().strip().split(',')\n",
    "\n",
    "        if position[0] == \"PASS\":\n",
    "            return \"PASS\", -1, -1\n",
    "\n",
    "        x = int(position[0])\n",
    "        y = int(position[1])\n",
    "\n",
    "    return \"MOVE\", x, y"
   ]
  },
  {
   "cell_type": "code",
   "execution_count": null,
   "metadata": {},
   "outputs": [],
   "source": []
  }
 ],
 "metadata": {
  "kernelspec": {
   "display_name": "Python 3",
   "language": "python",
   "name": "python3"
  },
  "language_info": {
   "codemirror_mode": {
    "name": "ipython",
    "version": 3
   },
   "file_extension": ".py",
   "mimetype": "text/x-python",
   "name": "python",
   "nbconvert_exporter": "python",
   "pygments_lexer": "ipython3",
   "version": "3.7.5"
  }
 },
 "nbformat": 4,
 "nbformat_minor": 4
}

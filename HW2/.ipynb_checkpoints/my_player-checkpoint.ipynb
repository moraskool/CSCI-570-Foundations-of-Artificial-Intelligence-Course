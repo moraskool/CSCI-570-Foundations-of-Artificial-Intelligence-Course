{
 "cells": [
  {
   "cell_type": "code",
   "execution_count": 9,
   "metadata": {},
   "outputs": [],
   "source": [
    "import random\n",
    "import sys\n",
    "from read import readInput\n",
    "from write import writeOutput\n",
    "import numpy as np\n",
    "from host import GO"
   ]
  },
  {
   "cell_type": "code",
   "execution_count": 11,
   "metadata": {},
   "outputs": [],
   "source": [
    "# Variables for Q learing\n",
    "WIN_REWARD = 1.0\n",
    "DRAW_REWARD = 0.5\n",
    "LOSS_REWARD = 0.0"
   ]
  },
  {
   "cell_type": "code",
   "execution_count": null,
   "metadata": {},
   "outputs": [],
   "source": [
    "class QLearner:\n",
    "\n",
    "    GAME_NUM = 100000\n",
    "\n",
    "    def __init__(self, alpha=.7, gamma=.9, initial_value=0.5, side=None):\n",
    "        if not (0 < gamma <= 1):\n",
    "            raise ValueError(\"An MDP must have 0 < gamma <= 1\")\n",
    "\n",
    "        self.side = side\n",
    "        self.alpha = alpha\n",
    "        self.gamma = gamma\n",
    "        self.q_values = {}\n",
    "        self.history_states = []\n",
    "        self.initial_value = initial_value\n",
    "        # self.state = ?\n",
    "\n",
    "    def set_side(self, side):\n",
    "        self.side = side\n",
    "        \n",
    "    def Q(self, state):\n",
    "        if state not in self.q_values:\n",
    "            q_val = np.zeros((3, 3))\n",
    "            q_val.fill(self.initial_value)\n",
    "            self.q_values[state] = q_val\n",
    "        return self.q_values[state]\n",
    "\n",
    "    def _select_best_move(self, board):\n",
    "        state = board.encode_state()\n",
    "        q_values = self.Q(state)\n",
    "        row, col = 0, 0\n",
    "        curr_max = -np.inf\n",
    "        while True:\n",
    "            i, j = self._find_max(q_values)\n",
    "            if board.is_valid_move(i, j):\n",
    "                return i, j\n",
    "            else:\n",
    "                q_values[i][j] = -1.0\n",
    "    \n",
    "    def _find_max(self, q_values):\n",
    "        curr_max = -np.inf\n",
    "        row, col = 0, 0\n",
    "        for i in range(0, 3):\n",
    "            for j in range(0, 3):\n",
    "                if q_values[i][j] > curr_max:\n",
    "                    curr_max = q_values[i][j]\n",
    "                    row, col = i, j\n",
    "        return row, col\n",
    "\n",
    "\n",
    "    def move(self, board):\n",
    "        \"\"\" make a move\n",
    "        \"\"\"\n",
    "        if board.game_over():\n",
    "            return\n",
    "        row, col = self._select_best_move(board)\n",
    "        self.history_states.append((board.encode_state(), (row, col)))\n",
    "        return board.move(row, col, self.side)\n",
    "\n",
    "    def learn(self, board):\n",
    "        \"\"\" when games ended, this method will be called to update the qvalues\n",
    "        \"\"\"\n",
    "        if board.game_result == 0:\n",
    "            reward = DRAW_REWARD\n",
    "        elif board.game_result == self.side:\n",
    "            reward = WIN_REWARD\n",
    "        else:\n",
    "            reward = LOSS_REWARD\n",
    "        self.history_states.reverse()\n",
    "        max_q_value = -1.0\n",
    "        for hist in self.history_states:\n",
    "            state, move = hist\n",
    "            q = self.Q(state)\n",
    "            if max_q_value < 0:\n",
    "                q[move[0]][move[1]] = reward\n",
    "            else:\n",
    "                q[move[0]][move[1]] = q[move[0]][move[1]] * (1 - self.alpha) + self.alpha * self.gamma * max_q_value\n",
    "            max_q_value = np.max(q)\n",
    "        self.history_states = []\n",
    "        "
   ]
  },
  {
   "cell_type": "code",
   "execution_count": 7,
   "metadata": {},
   "outputs": [],
   "source": [
    "\n",
    "    def get_input(self, go, piece_type):\n",
    "        '''\n",
    "        Get one input.\n",
    "\n",
    "        :param go: Go instance.\n",
    "        :param piece_type: 1('X') or 2('O').\n",
    "        :return: (row, column) coordinate of input.\n",
    "        '''        \n",
    "        possible_placements = []\n",
    "        for i in range(go.size):\n",
    "            for j in range(go.size):\n",
    "                if go.valid_place_check(i, j, piece_type, test_check = True):\n",
    "                    possible_placements.append((i,j))\n",
    "\n",
    "        if not possible_placements:\n",
    "            return \"PASS\"\n",
    "        else:\n",
    "            return random.choice(possible_placements) # place to update your player's intelligence"
   ]
  },
  {
   "cell_type": "code",
   "execution_count": 8,
   "metadata": {},
   "outputs": [
    {
     "ename": "FileNotFoundError",
     "evalue": "[Errno 2] No such file or directory: 'input.txt'",
     "output_type": "error",
     "traceback": [
      "\u001b[1;31m---------------------------------------------------------------------------\u001b[0m",
      "\u001b[1;31mFileNotFoundError\u001b[0m                         Traceback (most recent call last)",
      "\u001b[1;32m<ipython-input-8-1fb0a0df2278>\u001b[0m in \u001b[0;36m<module>\u001b[1;34m\u001b[0m\n\u001b[0;32m      1\u001b[0m \u001b[1;32mif\u001b[0m \u001b[0m__name__\u001b[0m \u001b[1;33m==\u001b[0m \u001b[1;34m\"__main__\"\u001b[0m\u001b[1;33m:\u001b[0m\u001b[1;33m\u001b[0m\u001b[1;33m\u001b[0m\u001b[0m\n\u001b[0;32m      2\u001b[0m     \u001b[0mN\u001b[0m \u001b[1;33m=\u001b[0m \u001b[1;36m5\u001b[0m\u001b[1;33m\u001b[0m\u001b[1;33m\u001b[0m\u001b[0m\n\u001b[1;32m----> 3\u001b[1;33m     \u001b[0mpiece_type\u001b[0m\u001b[1;33m,\u001b[0m \u001b[0mprevious_board\u001b[0m\u001b[1;33m,\u001b[0m \u001b[0mboard\u001b[0m \u001b[1;33m=\u001b[0m \u001b[0mreadInput\u001b[0m\u001b[1;33m(\u001b[0m\u001b[0mN\u001b[0m\u001b[1;33m)\u001b[0m\u001b[1;33m\u001b[0m\u001b[1;33m\u001b[0m\u001b[0m\n\u001b[0m\u001b[0;32m      4\u001b[0m     \u001b[0mgo\u001b[0m \u001b[1;33m=\u001b[0m \u001b[0mGO\u001b[0m\u001b[1;33m(\u001b[0m\u001b[0mN\u001b[0m\u001b[1;33m)\u001b[0m\u001b[1;33m\u001b[0m\u001b[1;33m\u001b[0m\u001b[0m\n\u001b[0;32m      5\u001b[0m     \u001b[0mgo\u001b[0m\u001b[1;33m.\u001b[0m\u001b[0mset_board\u001b[0m\u001b[1;33m(\u001b[0m\u001b[0mpiece_type\u001b[0m\u001b[1;33m,\u001b[0m \u001b[0mprevious_board\u001b[0m\u001b[1;33m,\u001b[0m \u001b[0mboard\u001b[0m\u001b[1;33m)\u001b[0m\u001b[1;33m\u001b[0m\u001b[1;33m\u001b[0m\u001b[0m\n",
      "\u001b[1;32m~\\OneDrive\\Desktop\\PythonNotebook\\570_HW\\HW2\\read.py\u001b[0m in \u001b[0;36mreadInput\u001b[1;34m(n, path)\u001b[0m\n\u001b[0;32m      8\u001b[0m \u001b[1;32mdef\u001b[0m \u001b[0mreadInput\u001b[0m\u001b[1;33m(\u001b[0m\u001b[0mn\u001b[0m\u001b[1;33m,\u001b[0m \u001b[0mpath\u001b[0m\u001b[1;33m=\u001b[0m\u001b[1;34m\"input.txt\"\u001b[0m\u001b[1;33m)\u001b[0m\u001b[1;33m:\u001b[0m\u001b[1;33m\u001b[0m\u001b[1;33m\u001b[0m\u001b[0m\n\u001b[0;32m      9\u001b[0m \u001b[1;33m\u001b[0m\u001b[0m\n\u001b[1;32m---> 10\u001b[1;33m     \u001b[1;32mwith\u001b[0m \u001b[0mopen\u001b[0m\u001b[1;33m(\u001b[0m\u001b[0mpath\u001b[0m\u001b[1;33m,\u001b[0m \u001b[1;34m'r'\u001b[0m\u001b[1;33m)\u001b[0m \u001b[1;32mas\u001b[0m \u001b[0mf\u001b[0m\u001b[1;33m:\u001b[0m\u001b[1;33m\u001b[0m\u001b[1;33m\u001b[0m\u001b[0m\n\u001b[0m\u001b[0;32m     11\u001b[0m         \u001b[0mlines\u001b[0m \u001b[1;33m=\u001b[0m \u001b[0mf\u001b[0m\u001b[1;33m.\u001b[0m\u001b[0mreadlines\u001b[0m\u001b[1;33m(\u001b[0m\u001b[1;33m)\u001b[0m\u001b[1;33m\u001b[0m\u001b[1;33m\u001b[0m\u001b[0m\n\u001b[0;32m     12\u001b[0m \u001b[1;33m\u001b[0m\u001b[0m\n",
      "\u001b[1;31mFileNotFoundError\u001b[0m: [Errno 2] No such file or directory: 'input.txt'"
     ]
    }
   ],
   "source": [
    "if __name__ == \"__main__\":\n",
    "    N = 5\n",
    "    piece_type, previous_board, board = readInput(N)\n",
    "    go = GO(N)\n",
    "    go.set_board(piece_type, previous_board, board)\n",
    "    qplayer = QLearner()\n",
    "    action = qplayer.get_input(go, piece_type)\n",
    "    writeOutput(action)"
   ]
  },
  {
   "cell_type": "code",
   "execution_count": null,
   "metadata": {},
   "outputs": [],
   "source": []
  }
 ],
 "metadata": {
  "kernelspec": {
   "display_name": "Python 3",
   "language": "python",
   "name": "python3"
  },
  "language_info": {
   "codemirror_mode": {
    "name": "ipython",
    "version": 3
   },
   "file_extension": ".py",
   "mimetype": "text/x-python",
   "name": "python",
   "nbconvert_exporter": "python",
   "pygments_lexer": "ipython3",
   "version": "3.7.5"
  }
 },
 "nbformat": 4,
 "nbformat_minor": 4
}
